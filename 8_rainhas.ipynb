{
 "cells": [
  {
   "cell_type": "code",
   "execution_count": 53,
   "id": "6ec9fecc",
   "metadata": {},
   "outputs": [],
   "source": [
    "# Alunas: Bianca Krug de Jesus, Gabrielle Alice Adriano"
   ]
  },
  {
   "cell_type": "code",
   "execution_count": 54,
   "id": "b889ce4d",
   "metadata": {},
   "outputs": [],
   "source": [
    "import random as r"
   ]
  },
  {
   "cell_type": "code",
   "execution_count": 55,
   "id": "e91a3dfe",
   "metadata": {},
   "outputs": [],
   "source": [
    "def calcula_conflitos(rainhas=[]):\n",
    "    conflito = 0 \n",
    "    for i in range(len(rainhas)):\n",
    "        for j in range(i + 1, len(rainhas)):\n",
    "            if(rainhas[j] == rainhas[i] or abs(rainhas[i] - rainhas[j]) == abs(i - j)):\n",
    "                conflito = conflito + 1 \n",
    "    return (conflito)"
   ]
  },
  {
   "cell_type": "code",
   "execution_count": 56,
   "id": "7f22f658",
   "metadata": {},
   "outputs": [],
   "source": [
    "def calcula_movimentos_totais(rainhas=[]):\n",
    "    conflitos = []\n",
    "    for l in range(len(rainhas)):\n",
    "        temp = rainhas.copy()\n",
    "        for k in range(len(rainhas)):\n",
    "            if(k != rainhas[l]):\n",
    "                temp[l] = k\n",
    "                conflitos.append(calcula_conflitos(temp))\n",
    "            else:\n",
    "                conflitos.append(int(len(rainhas) * (len(rainhas) - 1)/2))\n",
    "    return conflitos"
   ]
  },
  {
   "cell_type": "code",
   "execution_count": 57,
   "id": "1453d1a4",
   "metadata": {},
   "outputs": [],
   "source": [
    "def cria_vetor_rainhas(rainhas):\n",
    "    rainhas = []\n",
    "    ra = 8\n",
    "    for x in range(ra):\n",
    "        rainhas.append(r.randint(0, ra - 1))\n",
    "    return rainhas"
   ]
  },
  {
   "cell_type": "code",
   "execution_count": 58,
   "id": "60194773",
   "metadata": {},
   "outputs": [],
   "source": [
    "def move_rainha(rainhas=[]):\n",
    "    \n",
    "    conflitos = calcula_movimentos_totais(rainhas)\n",
    "    menor_conflito_atual = min(conflitos)\n",
    "    indice_menor_conflito_atual = conflitos.index(menor_conflito_atual)\n",
    "        \n",
    "    conflitos_iguais = 0\n",
    "    indices_conflitos_iguais = []\n",
    "    \n",
    "    for i in range(len(conflitos)):\n",
    "        if(conflitos[i] == menor_conflito_atual):\n",
    "            indices_conflitos_iguais.append(i)\n",
    "            conflitos_iguais += 1\n",
    "            \n",
    "    indice_al = r.randint(0, conflitos_iguais - 1)\n",
    "    indice_menor_conflito_atual = indices_conflitos_iguais[indice_al]\n",
    "    \n",
    "    \n",
    "    coluna = int((indice_menor_conflito_atual - indice_menor_conflito_atual % len(rainhas))/len(rainhas)) \n",
    "    linha = indice_menor_conflito_atual % len(rainhas)\n",
    "\n",
    "    rainhas[coluna] = linha \n",
    "    return menor_conflito_atual"
   ]
  },
  {
   "cell_type": "code",
   "execution_count": 59,
   "id": "1661ada9",
   "metadata": {},
   "outputs": [
    {
     "name": "stdout",
     "output_type": "stream",
     "text": [
      "Posição inicial das rainhas [3, 1, 6, 6, 4, 4, 0, 0]\n",
      "Posição final das rainhas [2, 5, 7, 0, 3, 6, 4, 1]\n",
      "Alterações feitas: 20\n"
     ]
    }
   ],
   "source": [
    "menor_conflito_anterior = int(len(rainhas) * (len(rainhas) + 1)/2)\n",
    "planicies = 0\n",
    "total_iteracoes = 0\n",
    "iteracao = 1\n",
    "conflitos_atuais = 1\n",
    "\n",
    "rainhas = cria_vetor_rainhas(rainhas)\n",
    "print(f\"Posição inicial das rainhas {rainhas}\")\n",
    "\n",
    "while (conflitos_atuais != 0):\n",
    "    total_iteracoes += 1    \n",
    "    conflitos_atuais = move_rainha(rainhas)\n",
    "        \n",
    "    if(menor_conflito_anterior <= conflitos_atuais):        \n",
    "        if(menor_conflito_anterior == conflitos_atuais):\n",
    "            planicies += 1                        \n",
    "            if(planicies > len(rainhas)):\n",
    "                rainhas = cria_vetor_rainhas(rainhas)\n",
    "                planicies = 0\n",
    "                iteracao = 1\n",
    "                menor_conflito_anterior = int(len(rainhas) * (len(rainhas) + 1)/2)    \n",
    "            else:\n",
    "                iteracao += 1\n",
    "                menor_conflito_anterior = conflitos_atuais\n",
    "        else:\n",
    "            rainhas = cria_vetor_rainhas(rainhas)\n",
    "            iteracao = 1\n",
    "            planicies = 0\n",
    "            menor_conflito_anterior = int(len(rainhas) * (len(rainhas) + 1)/2)   \n",
    "    else:\n",
    "        menor_conflito_anterior = conflitos_atuais\n",
    "        iteracao += 1\n",
    "        planicies = 0\n",
    "\n",
    "print(f\"Posição final das rainhas {rainhas}\")\n",
    "print(f\"Alterações feitas: {total_iteracoes}\")"
   ]
  }
 ],
 "metadata": {
  "kernelspec": {
   "display_name": "Python 3",
   "language": "python",
   "name": "python3"
  },
  "language_info": {
   "codemirror_mode": {
    "name": "ipython",
    "version": 3
   },
   "file_extension": ".py",
   "mimetype": "text/x-python",
   "name": "python",
   "nbconvert_exporter": "python",
   "pygments_lexer": "ipython3",
   "version": "3.8.8"
  }
 },
 "nbformat": 4,
 "nbformat_minor": 5
}
